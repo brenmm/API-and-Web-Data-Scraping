{
 "cells": [
  {
   "cell_type": "code",
   "execution_count": 1,
   "id": "dc2e86bf",
   "metadata": {},
   "outputs": [
    {
     "name": "stderr",
     "output_type": "stream",
     "text": [
      "[nltk_data] Downloading package stopwords to\n",
      "[nltk_data]     C:\\Users\\brend\\AppData\\Roaming\\nltk_data...\n",
      "[nltk_data]   Package stopwords is already up-to-date!\n",
      "[nltk_data] Downloading package punkt to\n",
      "[nltk_data]     C:\\Users\\brend\\AppData\\Roaming\\nltk_data...\n",
      "[nltk_data]   Package punkt is already up-to-date!\n"
     ]
    }
   ],
   "source": [
    "from funs import *"
   ]
  },
  {
   "cell_type": "code",
   "execution_count": 5,
   "id": "161294a2",
   "metadata": {},
   "outputs": [],
   "source": [
    "url_robot = \"https://subslikescript.com/robots.txt\""
   ]
  },
  {
   "cell_type": "code",
   "execution_count": 6,
   "id": "dfac8fed",
   "metadata": {},
   "outputs": [
    {
     "name": "stdout",
     "output_type": "stream",
     "text": [
      "robots.txt for https://subslikescript.com/\n",
      "===================================================\n",
      "User-agent: * \n",
      "Allow: / \n",
      "Disallow: */download_as_txt\n",
      "Disallow: */download_as_srt\n"
     ]
    }
   ],
   "source": [
    "response = requests.get(url_robot)\n",
    "test = response.text\n",
    "print(\"robots.txt for https://subslikescript.com/\")\n",
    "print(\"===================================================\")\n",
    "print(test)"
   ]
  },
  {
   "cell_type": "markdown",
   "id": "73576fdf",
   "metadata": {},
   "source": [
    "#### Allow : permite a los motores de búsqueda rastrear un subdirectorio o una página incluso en un directorio que de otro modo no estaría permitido\n",
    "\n",
    "#### Disallow: especifica las rutas a las que los rastreadores no pueden acceder según la línea del user-agent con la que se agrupa la directiva disallow. Los rastreadores ignoran las directivas que no tengan una ruta."
   ]
  }
 ],
 "metadata": {
  "kernelspec": {
   "display_name": "Python 3 (ipykernel)",
   "language": "python",
   "name": "python3"
  },
  "language_info": {
   "codemirror_mode": {
    "name": "ipython",
    "version": 3
   },
   "file_extension": ".py",
   "mimetype": "text/x-python",
   "name": "python",
   "nbconvert_exporter": "python",
   "pygments_lexer": "ipython3",
   "version": "3.9.7"
  }
 },
 "nbformat": 4,
 "nbformat_minor": 5
}
