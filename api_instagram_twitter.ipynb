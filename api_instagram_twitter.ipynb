{
 "cells": [
  {
   "cell_type": "code",
   "execution_count": 1,
   "id": "3e7120f0",
   "metadata": {},
   "outputs": [
    {
     "name": "stderr",
     "output_type": "stream",
     "text": [
      "[nltk_data] Downloading package stopwords to\n",
      "[nltk_data]     C:\\Users\\brend\\AppData\\Roaming\\nltk_data...\n",
      "[nltk_data]   Package stopwords is already up-to-date!\n",
      "[nltk_data] Downloading package punkt to\n",
      "[nltk_data]     C:\\Users\\brend\\AppData\\Roaming\\nltk_data...\n",
      "[nltk_data]   Package punkt is already up-to-date!\n"
     ]
    }
   ],
   "source": [
    "from fun_ws import *"
   ]
  },
  {
   "cell_type": "markdown",
   "id": "f235a083",
   "metadata": {},
   "source": [
    "#### Searching for Twitter or Instagram accounts available"
   ]
  },
  {
   "cell_type": "code",
   "execution_count": 100,
   "id": "c6bd5ca3",
   "metadata": {},
   "outputs": [
    {
     "data": {
      "text/plain": [
       "<Response [200]>"
      ]
     },
     "execution_count": 100,
     "metadata": {},
     "output_type": "execute_result"
    }
   ],
   "source": [
    "res = requests.get('http://api.tmdb.org/3/search/person?api_key=c2cfd454b2992c642fedcaad890eedce&query=Julia+Roberts')\n",
    "res"
   ]
  },
  {
   "cell_type": "code",
   "execution_count": 101,
   "id": "97779aeb",
   "metadata": {
    "collapsed": true
   },
   "outputs": [
    {
     "data": {
      "text/plain": [
       "{'page': 1,\n",
       " 'results': [{'adult': False,\n",
       "   'gender': 1,\n",
       "   'id': 1204,\n",
       "   'known_for': [{'adult': False,\n",
       "     'backdrop_path': '/43BEez1EGdmNpg8rcPUFToujlii.jpg',\n",
       "     'genre_ids': [53, 80],\n",
       "     'id': 161,\n",
       "     'media_type': 'movie',\n",
       "     'original_language': 'en',\n",
       "     'original_title': \"Ocean's Eleven\",\n",
       "     'overview': \"Less than 24 hours into his parole, charismatic thief Danny Ocean is already rolling out his next plan: In one night, Danny's hand-picked crew of specialists will attempt to steal more than $150 million from three Las Vegas casinos. But to score the cash, Danny risks his chances of reconciling with ex-wife, Tess.\",\n",
       "     'poster_path': '/hQQCdZrsHtZyR6NbKH2YyCqd2fR.jpg',\n",
       "     'release_date': '2001-12-07',\n",
       "     'title': \"Ocean's Eleven\",\n",
       "     'video': False,\n",
       "     'vote_average': 7.4,\n",
       "     'vote_count': 9733},\n",
       "    {'adult': False,\n",
       "     'backdrop_path': '/b7xQ5fuyVO4c24igizCfPgF6n7q.jpg',\n",
       "     'genre_ids': [18, 10751],\n",
       "     'id': 406997,\n",
       "     'media_type': 'movie',\n",
       "     'original_language': 'en',\n",
       "     'original_title': 'Wonder',\n",
       "     'overview': 'The story of August Pullman – a boy with facial differences – who enters fifth grade, attending a mainstream elementary school for the first time.',\n",
       "     'poster_path': '/yiHhIi8dWlSvEsGC1EAL47eusSf.jpg',\n",
       "     'release_date': '2017-11-13',\n",
       "     'title': 'Wonder',\n",
       "     'video': False,\n",
       "     'vote_average': 8.2,\n",
       "     'vote_count': 6850},\n",
       "    {'adult': False,\n",
       "     'backdrop_path': '/3tuWpnCTe14zZZPt6sI1W9ByOXx.jpg',\n",
       "     'genre_ids': [10749, 35],\n",
       "     'id': 114,\n",
       "     'media_type': 'movie',\n",
       "     'original_language': 'en',\n",
       "     'original_title': 'Pretty Woman',\n",
       "     'overview': 'When a millionaire wheeler-dealer enters a business contract with a Hollywood hooker Vivian Ward, he loses his heart in the bargain.',\n",
       "     'poster_path': '/hMVMMy1yDUvdufpTl8J8KKNYaZX.jpg',\n",
       "     'release_date': '1990-03-23',\n",
       "     'title': 'Pretty Woman',\n",
       "     'video': False,\n",
       "     'vote_average': 7.4,\n",
       "     'vote_count': 6426}],\n",
       "   'known_for_department': 'Acting',\n",
       "   'name': 'Julia Roberts',\n",
       "   'popularity': 13.774,\n",
       "   'profile_path': '/4XvEI2AgZ7bNOy1z2Nx8LcwLnTM.jpg'},\n",
       "  {'adult': False,\n",
       "   'gender': 0,\n",
       "   'id': 1555781,\n",
       "   'known_for': [{'adult': False,\n",
       "     'backdrop_path': '/slQFR2iCSH83BDClYwZPieI4oTF.jpg',\n",
       "     'genre_ids': [18, 10751, 36],\n",
       "     'id': 37453,\n",
       "     'media_type': 'movie',\n",
       "     'original_language': 'en',\n",
       "     'original_title': 'Molly: An American Girl on the Home Front',\n",
       "     'overview': \"Molly is a girl living in the year 1944 and WWII has brought many changes to Molly's life. An English girl comes to live with Molly's family to escape the bombings. They slowly become good friends.\",\n",
       "     'poster_path': '/2pnnRadfln0sIRUM8LlEg2aBfe7.jpg',\n",
       "     'release_date': '2006-11-26',\n",
       "     'title': 'Molly: An American Girl on the Home Front',\n",
       "     'video': False,\n",
       "     'vote_average': 6.5,\n",
       "     'vote_count': 15}],\n",
       "   'known_for_department': 'Production',\n",
       "   'name': 'Julia Roberts',\n",
       "   'popularity': 0.6,\n",
       "   'profile_path': None},\n",
       "  {'adult': False,\n",
       "   'gender': 1,\n",
       "   'id': 3134978,\n",
       "   'known_for': [{'backdrop_path': None,\n",
       "     'first_air_date': '1997-10-03',\n",
       "     'genre_ids': [],\n",
       "     'id': 43325,\n",
       "     'media_type': 'tv',\n",
       "     'name': 'Rag Nymph',\n",
       "     'origin_country': [],\n",
       "     'original_language': 'en',\n",
       "     'original_name': 'Rag Nymph',\n",
       "     'overview': 'It’s 1854 and ten-year-old Millie is taken in by ‘Raggie Aggie’ after her mother dies in a Newcastle brothel. The spirited young Millie is exposed again to the corrupting influences of the streets of Newcastle.',\n",
       "     'poster_path': '/o4uG0fDFJeYcx3CfsHz4zF15jTx.jpg',\n",
       "     'vote_average': 6.5,\n",
       "     'vote_count': 2}],\n",
       "   'known_for_department': 'Acting',\n",
       "   'name': 'Julia Burton-Roberts',\n",
       "   'popularity': 0.6,\n",
       "   'profile_path': None},\n",
       "  {'adult': False,\n",
       "   'gender': 0,\n",
       "   'id': 2044261,\n",
       "   'known_for': [{'adult': False,\n",
       "     'genre_ids': [35],\n",
       "     'id': 524682,\n",
       "     'media_type': 'movie',\n",
       "     'original_language': 'en',\n",
       "     'original_title': 'Hot Mess',\n",
       "     'overview': \"Stuck in the angst of wondering who she is and what she is meant to be doing with her life, Loz, a 25 year-old aspiring playwright, finally thinks she's found the answer to all her issues. Its name is Dave.\",\n",
       "     'poster_path': '/6nFHcL59poKdLwrzK6kqM96jWwS.jpg',\n",
       "     'release_date': '2017-01-01',\n",
       "     'title': 'Hot Mess',\n",
       "     'video': False,\n",
       "     'vote_average': 4.5,\n",
       "     'vote_count': 2}],\n",
       "   'known_for_department': 'Acting',\n",
       "   'name': 'Julia Robertson',\n",
       "   'popularity': 0.6,\n",
       "   'profile_path': None},\n",
       "  {'adult': False,\n",
       "   'gender': 0,\n",
       "   'id': 1310353,\n",
       "   'known_for': [{'adult': False,\n",
       "     'backdrop_path': None,\n",
       "     'genre_ids': [],\n",
       "     'id': 264895,\n",
       "     'media_type': 'movie',\n",
       "     'original_language': 'en',\n",
       "     'original_title': 'Desire Management',\n",
       "     'overview': 'Desire Management is a film by Noam Toran comprising five sequences in which objects are used as vehicles for dissident behaviour. In the film, the domestic space is defined as the last private frontier, a place where bespoke appliances provide unorthodox experiences for alienated people: An airline hostess with a unique relationship to turbulence, the owner of a mysterious box which men ritually visit to look inside, an elderly man who enjoys being vacuumed, a couple who engage in baseball driven fantasies, a man who is forced by his partner to cry into a strange device.',\n",
       "     'poster_path': '/joCFKevn7NfTTImcdiAmeHbaB1K.jpg',\n",
       "     'release_date': '2005-09-28',\n",
       "     'title': 'Desire Management',\n",
       "     'video': False,\n",
       "     'vote_average': 0,\n",
       "     'vote_count': 0}],\n",
       "   'known_for_department': 'Acting',\n",
       "   'name': 'Julian Roberts',\n",
       "   'popularity': 0.6,\n",
       "   'profile_path': None},\n",
       "  {'adult': False,\n",
       "   'gender': 0,\n",
       "   'id': 1991803,\n",
       "   'known_for': [{'adult': False,\n",
       "     'backdrop_path': None,\n",
       "     'genre_ids': [80, 27, 53],\n",
       "     'id': 509667,\n",
       "     'media_type': 'movie',\n",
       "     'original_language': 'en',\n",
       "     'original_title': 'Before Dawn',\n",
       "     'overview': 'A man and his family must escape a horde of blood-thirsty infected people while being held hostage by a group of criminals in a small country town.',\n",
       "     'poster_path': '/hpxepJfm871HJ2qikF7Sd9ML8qK.jpg',\n",
       "     'release_date': '',\n",
       "     'title': 'Before Dawn',\n",
       "     'video': False,\n",
       "     'vote_average': 0,\n",
       "     'vote_count': 0}],\n",
       "   'known_for_department': 'Directing',\n",
       "   'name': 'Julian Roberts',\n",
       "   'popularity': 0.6,\n",
       "   'profile_path': None},\n",
       "  {'adult': False,\n",
       "   'gender': 0,\n",
       "   'id': 1354498,\n",
       "   'known_for': [{'adult': False,\n",
       "     'backdrop_path': '/iSLtzzNbHY7huZQySW1rU8MuBDC.jpg',\n",
       "     'genre_ids': [10402, 99],\n",
       "     'id': 29750,\n",
       "     'media_type': 'movie',\n",
       "     'original_language': 'en',\n",
       "     'original_title': 'A Year and a Half in the Life Of Metallica',\n",
       "     'overview': 'A Year and a Half in the Life of Metallica is a two-part documentary about the process of making the Metallica album (or \"The Black Album\"), and the following tour. It was produced by Juliana Roberts and directed by Adam Dubin. The second part runs approximately two-and-a-half hours and follows Metallica at the start of their Wherever We May Roam Tour in Europe through to the Guns N\\' Roses/Metallica Stadium Tour of 1992.',\n",
       "     'poster_path': '/xxJ0FNFwx6XJnBz3EGjzWPAOYqo.jpg',\n",
       "     'release_date': '1992-08-12',\n",
       "     'title': 'A Year and a Half in the Life Of Metallica',\n",
       "     'video': False,\n",
       "     'vote_average': 8.3,\n",
       "     'vote_count': 10},\n",
       "    {'adult': False,\n",
       "     'genre_ids': [99, 10402],\n",
       "     'id': 348947,\n",
       "     'media_type': 'movie',\n",
       "     'original_language': 'en',\n",
       "     'original_title': 'Pantera: Cowboys From Hell',\n",
       "     'overview': \"Pantera's first home video release.  It contains behind the scenes footage of the band partying as well as music videos and live performances.\",\n",
       "     'poster_path': '/gM5FU6lfVKuRqpt9CXf4IqLGIQ3.jpg',\n",
       "     'release_date': '1991-03-11',\n",
       "     'title': 'Pantera: Cowboys From Hell',\n",
       "     'video': True,\n",
       "     'vote_average': 7.5,\n",
       "     'vote_count': 2}],\n",
       "   'known_for_department': 'Production',\n",
       "   'name': 'Juliana Roberts',\n",
       "   'popularity': 0.6,\n",
       "   'profile_path': None},\n",
       "  {'adult': False,\n",
       "   'gender': 0,\n",
       "   'id': 2245759,\n",
       "   'known_for': [{'adult': False,\n",
       "     'backdrop_path': '/aeNhkhY8ial2VgudAoqkmFCN2BW.jpg',\n",
       "     'genre_ids': [53],\n",
       "     'id': 122044,\n",
       "     'media_type': 'movie',\n",
       "     'original_language': 'en',\n",
       "     'original_title': 'Offender',\n",
       "     'overview': \"Justice needs to be served at Britain's most notorious young offenders institute.\",\n",
       "     'poster_path': '/gYzE8XlHGMH1nmlwlPksBzj8kZH.jpg',\n",
       "     'release_date': '2012-08-08',\n",
       "     'title': 'Offender',\n",
       "     'video': False,\n",
       "     'vote_average': 7,\n",
       "     'vote_count': 76}],\n",
       "   'known_for_department': 'Crew',\n",
       "   'name': 'Juliana Roberts',\n",
       "   'popularity': 0.6,\n",
       "   'profile_path': None}],\n",
       " 'total_pages': 1,\n",
       " 'total_results': 8}"
      ]
     },
     "execution_count": 101,
     "metadata": {},
     "output_type": "execute_result"
    }
   ],
   "source": [
    "data = res.json()\n",
    "data"
   ]
  },
  {
   "cell_type": "code",
   "execution_count": 111,
   "id": "2ead5f6a",
   "metadata": {},
   "outputs": [
    {
     "data": {
      "text/plain": [
       "1204"
      ]
     },
     "execution_count": 111,
     "metadata": {},
     "output_type": "execute_result"
    }
   ],
   "source": [
    "id_actor=res.json()['results'][0]['id']\n",
    "id_actor"
   ]
  },
  {
   "cell_type": "code",
   "execution_count": 113,
   "id": "bdbd493e",
   "metadata": {},
   "outputs": [
    {
     "data": {
      "text/plain": [
       "{'id': 1204,\n",
       " 'freebase_mid': '/m/046zh',\n",
       " 'freebase_id': '/en/julia_roberts',\n",
       " 'imdb_id': 'nm0000210',\n",
       " 'tvrage_id': 54671,\n",
       " 'facebook_id': None,\n",
       " 'instagram_id': 'juliaroberts',\n",
       " 'twitter_id': None}"
      ]
     },
     "execution_count": 113,
     "metadata": {},
     "output_type": "execute_result"
    }
   ],
   "source": [
    "api_key = 'c2cfd454b2992c642fedcaad890eedce'\n",
    "api_link = \"https://api.themoviedb.org/3\"\n",
    "params = {'api_key':api_key}\n",
    "header = {'Accept': 'application/json'}\n",
    "response2 = requests.get(api_link + \"/person/\"+str(id_actor)+\"/external_ids\", headers = header, params=params)\n",
    "data=response2.json()\n",
    "data"
   ]
  },
  {
   "cell_type": "code",
   "execution_count": 114,
   "id": "e2889ef8",
   "metadata": {},
   "outputs": [
    {
     "name": "stdout",
     "output_type": "stream",
     "text": [
      "Instagram account: juliaroberts \n",
      "Twitter account: None\n"
     ]
    }
   ],
   "source": [
    "print(\"Instagram account:\",data['instagram_id'],\"\\nTwitter account:\",data['twitter_id'])"
   ]
  }
 ],
 "metadata": {
  "kernelspec": {
   "display_name": "Python 3 (ipykernel)",
   "language": "python",
   "name": "python3"
  },
  "language_info": {
   "codemirror_mode": {
    "name": "ipython",
    "version": 3
   },
   "file_extension": ".py",
   "mimetype": "text/x-python",
   "name": "python",
   "nbconvert_exporter": "python",
   "pygments_lexer": "ipython3",
   "version": "3.9.7"
  }
 },
 "nbformat": 4,
 "nbformat_minor": 5
}
