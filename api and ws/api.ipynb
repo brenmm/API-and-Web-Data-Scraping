{
 "cells": [
  {
   "cell_type": "code",
   "execution_count": 1,
   "id": "d18ec775",
   "metadata": {},
   "outputs": [
    {
     "name": "stderr",
     "output_type": "stream",
     "text": [
      "[nltk_data] Downloading package stopwords to\n",
      "[nltk_data]     C:\\Users\\brend\\AppData\\Roaming\\nltk_data...\n",
      "[nltk_data]   Package stopwords is already up-to-date!\n",
      "[nltk_data] Downloading package punkt to\n",
      "[nltk_data]     C:\\Users\\brend\\AppData\\Roaming\\nltk_data...\n",
      "[nltk_data]   Package punkt is already up-to-date!\n"
     ]
    }
   ],
   "source": [
    "from fun_api import *"
   ]
  },
  {
   "cell_type": "markdown",
   "id": "2f6c75d9",
   "metadata": {},
   "source": [
    "#### Searching actors and collecting information"
   ]
  },
  {
   "cell_type": "code",
   "execution_count": 6,
   "id": "d7ea89f2",
   "metadata": {
    "collapsed": true
   },
   "outputs": [
    {
     "data": {
      "text/plain": [
       "{'page': 1,\n",
       " 'results': [{'adult': False,\n",
       "   'gender': 1,\n",
       "   'id': 32,\n",
       "   'known_for': [{'adult': False,\n",
       "     'backdrop_path': '/qdIMHd4sEfJSckfVJfKQvisL02a.jpg',\n",
       "     'genre_ids': [35, 18, 10749],\n",
       "     'id': 13,\n",
       "     'media_type': 'movie',\n",
       "     'original_language': 'en',\n",
       "     'original_title': 'Forrest Gump',\n",
       "     'overview': 'A man with a low IQ has accomplished great things in his life and been present during significant historic events—in each case, far exceeding what anyone imagined he could do. But despite all he has achieved, his one true love eludes him.',\n",
       "     'poster_path': '/saHP97rTPS5eLmrLQEcANmKrsFl.jpg',\n",
       "     'release_date': '1994-06-23',\n",
       "     'title': 'Forrest Gump',\n",
       "     'video': False,\n",
       "     'vote_average': 8.5,\n",
       "     'vote_count': 22794},\n",
       "    {'adult': False,\n",
       "     'backdrop_path': '/AaABt75ZzfMGrscUR2seabz4PEX.jpg',\n",
       "     'genre_ids': [28, 12, 14],\n",
       "     'id': 297762,\n",
       "     'media_type': 'movie',\n",
       "     'original_language': 'en',\n",
       "     'original_title': 'Wonder Woman',\n",
       "     'overview': 'An Amazon princess comes to the world of Man in the grips of the First World War to confront the forces of evil and bring an end to human conflict.',\n",
       "     'poster_path': '/imekS7f1OuHyUP2LAiTEM0zBzUz.jpg',\n",
       "     'release_date': '2017-05-30',\n",
       "     'title': 'Wonder Woman',\n",
       "     'video': False,\n",
       "     'vote_average': 7.2,\n",
       "     'vote_count': 17709},\n",
       "    {'adult': False,\n",
       "     'backdrop_path': '/jorgjEk6a0bed6jdR5wu4S6ZvRm.jpg',\n",
       "     'genre_ids': [28, 12, 878],\n",
       "     'id': 141052,\n",
       "     'media_type': 'movie',\n",
       "     'original_language': 'en',\n",
       "     'original_title': 'Justice League',\n",
       "     'overview': \"Fuelled by his restored faith in humanity and inspired by Superman's selfless act, Bruce Wayne and Diana Prince assemble a team of metahumans consisting of Barry Allen, Arthur Curry and Victor Stone to face the catastrophic threat of Steppenwolf and the Parademons who are on the hunt for three Mother Boxes on Earth.\",\n",
       "     'poster_path': '/eifGNCSDuxJeS1loAXil5bIGgvC.jpg',\n",
       "     'release_date': '2017-11-15',\n",
       "     'title': 'Justice League',\n",
       "     'video': False,\n",
       "     'vote_average': 6.1,\n",
       "     'vote_count': 11375}],\n",
       "   'known_for_department': 'Acting',\n",
       "   'name': 'Robin Wright',\n",
       "   'popularity': 24.893,\n",
       "   'profile_path': '/3IvlZd2PpT3Tuxy8lr6ymWLyoNU.jpg'},\n",
       "  {'adult': False,\n",
       "   'gender': 0,\n",
       "   'id': 2256124,\n",
       "   'known_for': [{'adult': False,\n",
       "     'backdrop_path': '/r6Yt0MUo7Lx5u5Q9i076otOFzUW.jpg',\n",
       "     'genre_ids': [35, 10751, 878, 10770],\n",
       "     'id': 10960,\n",
       "     'media_type': 'movie',\n",
       "     'original_language': 'en',\n",
       "     'original_title': 'Project: Alf',\n",
       "     'overview': 'Six years ago, the space alien, ALF, was on his way back to his new home...When the Alien Task Force finally caught him. Now, the story continues to where the series ended. ALF is now protected by the Alien Task Force, but the leader wants to terminate ALF. So two officers decide to save ALF by taking ALF away from him. But the man the officers took ALF to wants to finally reveal ALF to the world.',\n",
       "     'poster_path': '/cI69vlDUuSrkSM5sFvBPgxptdt5.jpg',\n",
       "     'release_date': '1996-02-17',\n",
       "     'title': 'Project: Alf',\n",
       "     'video': False,\n",
       "     'vote_average': 5.9,\n",
       "     'vote_count': 72}],\n",
       "   'known_for_department': 'Costume & Make-Up',\n",
       "   'name': 'Robin Wright',\n",
       "   'popularity': 0.6,\n",
       "   'profile_path': None},\n",
       "  {'adult': False,\n",
       "   'gender': 1,\n",
       "   'id': 2547850,\n",
       "   'known_for': [{'backdrop_path': '/z8qetyEaAX42KQebtzX1J28aIfH.jpg',\n",
       "     'first_air_date': '2003-02-21',\n",
       "     'genre_ids': [35, 10767],\n",
       "     'id': 4419,\n",
       "     'media_type': 'tv',\n",
       "     'name': 'Real Time with Bill Maher',\n",
       "     'origin_country': ['US'],\n",
       "     'original_language': 'en',\n",
       "     'original_name': 'Real Time with Bill Maher',\n",
       "     'overview': \"Each week Bill Maher surrounds himself with a panel of guests which include politicians, actors, comedians, musicians and the like to discuss what's going on in the world.\",\n",
       "     'poster_path': '/c3EurMWJu1hXKUeJVvLIoJaN26j.jpg',\n",
       "     'vote_average': 6,\n",
       "     'vote_count': 145}],\n",
       "   'known_for_department': 'Acting',\n",
       "   'name': 'Robin B. Wright',\n",
       "   'popularity': 0.828,\n",
       "   'profile_path': '/tOFOlYDwzM66XyitrxWqn9pZo7y.jpg'}],\n",
       " 'total_pages': 1,\n",
       " 'total_results': 3}"
      ]
     },
     "execution_count": 6,
     "metadata": {},
     "output_type": "execute_result"
    }
   ],
   "source": [
    "# 1. Robin Wright\n",
    "search_actor('Robin Wright')"
   ]
  },
  {
   "cell_type": "code",
   "execution_count": 7,
   "id": "2a7ca8e6",
   "metadata": {},
   "outputs": [
    {
     "name": "stdout",
     "output_type": "stream",
     "text": [
      "Forrest Gump\n",
      "A man with a low IQ has accomplished great things in his life and been present during significant historic events—in each case, far exceeding what anyone imagined he could do. But despite all he has achieved, his one true love eludes him.\n"
     ]
    }
   ],
   "source": [
    "wrig_ti=id3=(search_actor('Robin Wright'))['results'][0]['known_for'][0]['original_title']\n",
    "wrig_ov=id3=(search_actor('Robin Wright'))['results'][0]['known_for'][0]['overview']\n",
    "print(wrig_ti)\n",
    "print(wrig_ov)"
   ]
  },
  {
   "cell_type": "code",
   "execution_count": 8,
   "id": "f116df44",
   "metadata": {},
   "outputs": [
    {
     "name": "stdout",
     "output_type": "stream",
     "text": [
      "Movie: Forrest Gump \n",
      "Vote count: 22802 \n",
      "Vote average 8.5\n"
     ]
    }
   ],
   "source": [
    "vote_average(wrig_ti)"
   ]
  },
  {
   "cell_type": "code",
   "execution_count": 9,
   "id": "e36590d8",
   "metadata": {},
   "outputs": [
    {
     "name": "stdout",
     "output_type": "stream",
     "text": [
      "TextBlob Sentiment(polarity=0.25833333333333336, subjectivity=0.5194444444444444)\n"
     ]
    }
   ],
   "source": [
    "#TextBlob\n",
    "blob=TextBlob(wrig_ov)\n",
    "print(\"TextBlob\",blob.sentiment)"
   ]
  },
  {
   "cell_type": "code",
   "execution_count": 10,
   "id": "344d909e",
   "metadata": {},
   "outputs": [
    {
     "name": "stdout",
     "output_type": "stream",
     "text": [
      "Pulp Fiction\n",
      "A burger-loving hit man, his philosophical partner, a drug-addled gangster's moll and a washed-up boxer converge in this sprawling, comedic crime caper. Their adventures unfurl in three stories that ingeniously trip back and forth in time.\n"
     ]
    }
   ],
   "source": [
    "# 2. John Travolta\n",
    "trav_ti=(search_actor('John Travolta'))['results'][0]['known_for'][0]['original_title']\n",
    "trav_ov=(search_actor('John Travolta'))['results'][0]['known_for'][0]['overview']\n",
    "print(trav_ti)\n",
    "print(trav_ov)"
   ]
  },
  {
   "cell_type": "code",
   "execution_count": 11,
   "id": "1e358af9",
   "metadata": {},
   "outputs": [
    {
     "name": "stdout",
     "output_type": "stream",
     "text": [
      "Movie: Pulp Fiction \n",
      "Vote count: 23247 \n",
      "Vote average 8.5\n"
     ]
    }
   ],
   "source": [
    "vote_average(trav_ti)"
   ]
  },
  {
   "cell_type": "code",
   "execution_count": 12,
   "id": "7f33617c",
   "metadata": {},
   "outputs": [
    {
     "name": "stdout",
     "output_type": "stream",
     "text": [
      "TextBlob Sentiment(polarity=0.16666666666666666, subjectivity=0.3333333333333333)\n"
     ]
    }
   ],
   "source": [
    "#TextBlob\n",
    "blob=TextBlob(trav_ov)\n",
    "print(\"TextBlob\",blob.sentiment)"
   ]
  },
  {
   "cell_type": "code",
   "execution_count": 13,
   "id": "2a65b1ba",
   "metadata": {},
   "outputs": [
    {
     "name": "stdout",
     "output_type": "stream",
     "text": [
      "The Shining\n",
      "Jack Torrance accepts a caretaker job at the Overlook Hotel, where he, along with his wife Wendy and their son Danny, must live isolated from the rest of the world for the winter. But they aren't prepared for the madness that lurks within.\n"
     ]
    }
   ],
   "source": [
    "# 3. Jack Nicholson\n",
    "nich_ti=(search_actor('Jack Nicholson'))['results'][0]['known_for'][0]['original_title']\n",
    "nich_ov=(search_actor('Jack Nicholson'))['results'][0]['known_for'][0]['overview']\n",
    "print(nich_ti)\n",
    "print(nich_ov)"
   ]
  },
  {
   "cell_type": "code",
   "execution_count": 14,
   "id": "91479927",
   "metadata": {},
   "outputs": [
    {
     "name": "stdout",
     "output_type": "stream",
     "text": [
      "Movie: The Shining \n",
      "Vote count: 14478 \n",
      "Vote average 8.2\n"
     ]
    }
   ],
   "source": [
    "vote_average(nich_ti)"
   ]
  },
  {
   "cell_type": "code",
   "execution_count": 15,
   "id": "117ff944",
   "metadata": {},
   "outputs": [
    {
     "name": "stdout",
     "output_type": "stream",
     "text": [
      "TextBlob Sentiment(polarity=0.13636363636363635, subjectivity=0.5)\n"
     ]
    }
   ],
   "source": [
    "#TextBlob\n",
    "blob=TextBlob(nich_ov)\n",
    "print(\"TextBlob\",blob.sentiment)"
   ]
  },
  {
   "cell_type": "code",
   "execution_count": 16,
   "id": "891a2fae",
   "metadata": {},
   "outputs": [
    {
     "name": "stdout",
     "output_type": "stream",
     "text": [
      "Fight Club\n",
      "A ticking-time-bomb insomniac and a slippery soap salesman channel primal male aggression into a shocking new form of therapy. Their concept catches on, with underground \"fight clubs\" forming in every town, until an eccentric gets in the way and ignites an out-of-control spiral toward oblivion.\n"
     ]
    }
   ],
   "source": [
    "# 4. Brad Pitt\n",
    "pitt_ti=(search_actor('Brad Pitt'))['results'][0]['known_for'][0]['original_title']\n",
    "pitt_ov=(search_actor('Brad Pitt'))['results'][0]['known_for'][0]['overview']\n",
    "print(pitt_ti)\n",
    "print(pitt_ov)"
   ]
  },
  {
   "cell_type": "code",
   "execution_count": 17,
   "id": "882da70d",
   "metadata": {},
   "outputs": [
    {
     "name": "stdout",
     "output_type": "stream",
     "text": [
      "Movie: Fight Club \n",
      "Vote count: 24197 \n",
      "Vote average 8.4\n"
     ]
    }
   ],
   "source": [
    "vote_average(pitt_ti)"
   ]
  },
  {
   "cell_type": "code",
   "execution_count": 18,
   "id": "a2f082ed",
   "metadata": {},
   "outputs": [
    {
     "name": "stdout",
     "output_type": "stream",
     "text": [
      "TextBlob Sentiment(polarity=-0.2159090909090909, subjectivity=0.5136363636363637)\n"
     ]
    }
   ],
   "source": [
    "#TextBlob\n",
    "blob=TextBlob(pitt_ov)\n",
    "print(\"TextBlob\",blob.sentiment)"
   ]
  },
  {
   "cell_type": "code",
   "execution_count": 19,
   "id": "00b39acf",
   "metadata": {},
   "outputs": [
    {
     "name": "stdout",
     "output_type": "stream",
     "text": [
      "Joker\n",
      "During the 1980s, a failed stand-up comedian is driven insane and turns to a life of crime and chaos in Gotham City while becoming an infamous psychopathic crime figure.\n"
     ]
    }
   ],
   "source": [
    "# 5. Joaquin Phoenix\n",
    "phoe_ti=(search_actor('Joaquin Phoenix'))['results'][0]['known_for'][0]['original_title']\n",
    "phoe_ov=(search_actor('Joaquin Phoenix'))['results'][0]['known_for'][0]['overview']\n",
    "print(phoe_ti)\n",
    "print(phoe_ov)"
   ]
  },
  {
   "cell_type": "code",
   "execution_count": 20,
   "id": "c6308548",
   "metadata": {},
   "outputs": [
    {
     "name": "stdout",
     "output_type": "stream",
     "text": [
      "Movie: Joker \n",
      "Vote count: 20668 \n",
      "Vote average 8.2\n",
      "Movie: Joker \n",
      "Vote count: 31 \n",
      "Vote average 4.2\n",
      "Movie: Joker \n",
      "Vote count: 11 \n",
      "Vote average 5.4\n",
      "Movie: Joker \n",
      "Vote count: 1 \n",
      "Vote average 6\n",
      "Movie: Joker \n",
      "Vote count: 0 \n",
      "Vote average 0\n"
     ]
    }
   ],
   "source": [
    "vote_average(phoe_ti)"
   ]
  },
  {
   "cell_type": "code",
   "execution_count": 21,
   "id": "7aebc3cb",
   "metadata": {},
   "outputs": [
    {
     "name": "stdout",
     "output_type": "stream",
     "text": [
      "TextBlob Sentiment(polarity=-0.3875, subjectivity=0.7875000000000001)\n"
     ]
    }
   ],
   "source": [
    "#TextBlob\n",
    "blob=TextBlob(phoe_ov)\n",
    "print(\"TextBlob\",blob.sentiment)"
   ]
  },
  {
   "cell_type": "code",
   "execution_count": 22,
   "id": "3eee89da",
   "metadata": {},
   "outputs": [
    {
     "name": "stdout",
     "output_type": "stream",
     "text": [
      "The Terminator\n",
      "In the post-apocalyptic future, reigning tyrannical supercomputers teleport a cyborg assassin known as the \"Terminator\" back to 1984 to kill Sarah Connor, whose unborn son is destined to lead insurgents against 21st century mechanical hegemony. Meanwhile, the human-resistance movement dispatches a lone warrior to safeguard Sarah. Can he stop the virtually indestructible killing machine?\n"
     ]
    }
   ],
   "source": [
    "# 6. Linda Hamilton\n",
    "lind_ti=(search_actor('Linda Hamilton'))['results'][0]['known_for'][0]['original_title']\n",
    "lind_ov=(search_actor('Linda Hamilton'))['results'][0]['known_for'][0]['overview']\n",
    "print(lind_ti)\n",
    "print(lind_ov)"
   ]
  },
  {
   "cell_type": "code",
   "execution_count": 23,
   "id": "75e43ea1",
   "metadata": {},
   "outputs": [
    {
     "name": "stdout",
     "output_type": "stream",
     "text": [
      "Movie: The Terminator \n",
      "Vote count: 10504 \n",
      "Vote average 7.6\n"
     ]
    }
   ],
   "source": [
    "vote_average(lind_ti)"
   ]
  },
  {
   "cell_type": "code",
   "execution_count": 24,
   "id": "8aa1a20d",
   "metadata": {},
   "outputs": [
    {
     "name": "stdout",
     "output_type": "stream",
     "text": [
      "TextBlob Sentiment(polarity=0.0, subjectivity=0.041666666666666664)\n"
     ]
    }
   ],
   "source": [
    "#TextBlob\n",
    "blob=TextBlob(lind_ov)\n",
    "print(\"TextBlob\",blob.sentiment)"
   ]
  },
  {
   "cell_type": "code",
   "execution_count": 25,
   "id": "c30751d3",
   "metadata": {
    "scrolled": true
   },
   "outputs": [
    {
     "name": "stdout",
     "output_type": "stream",
     "text": [
      "The Hunger Games\n",
      "Every year in the ruins of what was once North America, the nation of Panem forces each of its twelve districts to send a teenage boy and girl to compete in the Hunger Games.  Part twisted entertainment, part government intimidation tactic, the Hunger Games are a nationally televised event in which “Tributes” must fight with one another until one survivor remains.  Pitted against highly-trained Tributes who have prepared for these Games their entire lives, Katniss is forced to rely upon her sharp instincts as well as the mentorship of drunken former victor Haymitch Abernathy.  If she’s ever to return home to District 12, Katniss must make impossible choices in the arena that weigh survival against humanity and life against love. The world will be watching.\n"
     ]
    }
   ],
   "source": [
    "# 7. Jennifer Lawrence\n",
    "law_ti=(search_actor('Jennifer Lawrence'))['results'][0]['known_for'][0]['original_title']\n",
    "law_ov=(search_actor('Jennifer Lawrence'))['results'][0]['known_for'][0]['overview']\n",
    "print(law_ti)\n",
    "print(law_ov)"
   ]
  },
  {
   "cell_type": "code",
   "execution_count": 26,
   "id": "05759fa0",
   "metadata": {},
   "outputs": [
    {
     "name": "stdout",
     "output_type": "stream",
     "text": [
      "Movie: The Hunger Games \n",
      "Vote count: 19241 \n",
      "Vote average 7.2\n"
     ]
    }
   ],
   "source": [
    "vote_average(law_ti)"
   ]
  },
  {
   "cell_type": "code",
   "execution_count": 27,
   "id": "d2566058",
   "metadata": {},
   "outputs": [
    {
     "name": "stdout",
     "output_type": "stream",
     "text": [
      "TextBlob Sentiment(polarity=-0.13796296296296295, subjectivity=0.4861111111111111)\n"
     ]
    }
   ],
   "source": [
    "#TextBlob\n",
    "blob=TextBlob(law_ov)\n",
    "print(\"TextBlob\",blob.sentiment)"
   ]
  },
  {
   "cell_type": "code",
   "execution_count": 28,
   "id": "15e0e20c",
   "metadata": {},
   "outputs": [
    {
     "name": "stdout",
     "output_type": "stream",
     "text": [
      "The Dark Knight\n",
      "Batman raises the stakes in his war on crime. With the help of Lt. Jim Gordon and District Attorney Harvey Dent, Batman sets out to dismantle the remaining criminal organizations that plague the streets. The partnership proves to be effective, but they soon find themselves prey to a reign of chaos unleashed by a rising criminal mastermind known to the terrified citizens of Gotham as the Joker.\n"
     ]
    }
   ],
   "source": [
    "# 8. Christian Bale\n",
    "bale_ti=id3=(search_actor('Christian Bale'))['results'][0]['known_for'][0]['original_title']\n",
    "bale_ov=id3=(search_actor('Christian Bale'))['results'][0]['known_for'][0]['overview']\n",
    "print(bale_ti)\n",
    "print(bale_ov)"
   ]
  },
  {
   "cell_type": "code",
   "execution_count": 29,
   "id": "61c7d065",
   "metadata": {},
   "outputs": [
    {
     "name": "stdout",
     "output_type": "stream",
     "text": [
      "Movie: The Dark Knight \n",
      "Vote count: 27672 \n",
      "Vote average 8.5\n",
      "Movie: The Dark Knight \n",
      "Vote count: 7 \n",
      "Vote average 5.1\n"
     ]
    }
   ],
   "source": [
    "vote_average(bale_ti)"
   ]
  },
  {
   "cell_type": "code",
   "execution_count": 30,
   "id": "4443400f",
   "metadata": {},
   "outputs": [
    {
     "name": "stdout",
     "output_type": "stream",
     "text": [
      "TextBlob Sentiment(polarity=0.02499999999999998, subjectivity=0.47500000000000003)\n"
     ]
    }
   ],
   "source": [
    "#TextBlob\n",
    "blob=TextBlob(bale_ov)\n",
    "print(\"TextBlob\",blob.sentiment)"
   ]
  },
  {
   "cell_type": "code",
   "execution_count": 31,
   "id": "34667314",
   "metadata": {},
   "outputs": [
    {
     "name": "stdout",
     "output_type": "stream",
     "text": [
      "Skyfall\n",
      "When Bond's latest assignment goes gravely wrong, agents around the world are exposed and MI6 headquarters is attacked. While M faces challenges to her authority and position from Gareth Mallory, the new Chairman of the Intelligence and Security Committee, it's up to Bond, aided only by field agent Eve, to locate the mastermind behind the attack.\n"
     ]
    }
   ],
   "source": [
    "# 9. Javier Bardem\n",
    "bard_ti=id3=(search_actor('Javier Bardem'))['results'][0]['known_for'][0]['original_title']\n",
    "bard_ov=id3=(search_actor('Javier Bardem'))['results'][0]['known_for'][0]['overview']\n",
    "print(bard_ti)\n",
    "print(bard_ov)"
   ]
  },
  {
   "cell_type": "code",
   "execution_count": 32,
   "id": "2ca1ecdb",
   "metadata": {},
   "outputs": [
    {
     "name": "stdout",
     "output_type": "stream",
     "text": [
      "Movie: Skyfall \n",
      "Vote count: 13526 \n",
      "Vote average 7.2\n"
     ]
    }
   ],
   "source": [
    "vote_average(bard_ti)"
   ]
  },
  {
   "cell_type": "code",
   "execution_count": 33,
   "id": "03735a14",
   "metadata": {},
   "outputs": [
    {
     "name": "stdout",
     "output_type": "stream",
     "text": [
      "TextBlob Sentiment(polarity=-0.052727272727272734, subjectivity=0.7909090909090908)\n"
     ]
    }
   ],
   "source": [
    "#TextBlob\n",
    "blob=TextBlob(bard_ov)\n",
    "print(\"TextBlob\",blob.sentiment)"
   ]
  },
  {
   "cell_type": "code",
   "execution_count": 34,
   "id": "1379c666",
   "metadata": {},
   "outputs": [
    {
     "name": "stdout",
     "output_type": "stream",
     "text": [
      "Some Like It Hot\n",
      "Two musicians witness a mob hit and struggle to find a way out of the city before they are found by the gangsters. Their only opportunity is to join an all-girl band as they leave on a tour. To make their getaway they must first disguise themselves as women, then keep their identities secret and deal with the problems this brings - such as an attractive bandmate and a very determined suitor.\n"
     ]
    }
   ],
   "source": [
    "# 10. Marilyn Monroe\n",
    "monr_ti=id3=(search_actor('Marilyn Monroe'))['results'][0]['known_for'][0]['original_title']\n",
    "monr_ov=id3=(search_actor('Marilyn Monroe'))['results'][0]['known_for'][0]['overview']\n",
    "print(monr_ti)\n",
    "print(monr_ov)"
   ]
  },
  {
   "cell_type": "code",
   "execution_count": 35,
   "id": "d1ea303d",
   "metadata": {},
   "outputs": [
    {
     "name": "stdout",
     "output_type": "stream",
     "text": [
      "Movie: Some Like It Hot \n",
      "Vote count: 2731 \n",
      "Vote average 8.1\n",
      "Movie: Some Like It Hot \n",
      "Vote count: 3 \n",
      "Vote average 7\n"
     ]
    }
   ],
   "source": [
    "vote_average(monr_ti)"
   ]
  },
  {
   "cell_type": "code",
   "execution_count": 37,
   "id": "dece7a2f",
   "metadata": {},
   "outputs": [
    {
     "name": "stdout",
     "output_type": "stream",
     "text": [
      "TextBlob Sentiment(polarity=0.1416666666666667, subjectivity=0.6388888888888888)\n"
     ]
    }
   ],
   "source": [
    "#TextBlob\n",
    "blob=TextBlob(monr_ov)\n",
    "print(\"TextBlob\",blob.sentiment)"
   ]
  },
  {
   "cell_type": "code",
   "execution_count": 38,
   "id": "54157357",
   "metadata": {},
   "outputs": [],
   "source": [
    "tit_list = (wrig_ti,trav_ti,nich_ti,pitt_ti,phoe_ti,lind_ti,law_ti,bale_ti,bard_ti,monr_ti)"
   ]
  },
  {
   "cell_type": "code",
   "execution_count": 39,
   "id": "3642a231",
   "metadata": {},
   "outputs": [
    {
     "data": {
      "text/plain": [
       "('Forrest Gump',\n",
       " 'Pulp Fiction',\n",
       " 'The Shining',\n",
       " 'Fight Club',\n",
       " 'Joker',\n",
       " 'The Terminator',\n",
       " 'The Hunger Games',\n",
       " 'The Dark Knight',\n",
       " 'Skyfall',\n",
       " 'Some Like It Hot')"
      ]
     },
     "execution_count": 39,
     "metadata": {},
     "output_type": "execute_result"
    }
   ],
   "source": [
    "tit_list"
   ]
  },
  {
   "cell_type": "code",
   "execution_count": 40,
   "id": "94f57b63",
   "metadata": {},
   "outputs": [],
   "source": [
    "ov_list = (wrig_ov,trav_ov,nich_ov,pitt_ov,phoe_ov,lind_ov,law_ov,bale_ov,bard_ov,monr_ov)"
   ]
  },
  {
   "cell_type": "code",
   "execution_count": 41,
   "id": "e2ab5248",
   "metadata": {
    "collapsed": true
   },
   "outputs": [
    {
     "data": {
      "text/plain": [
       "('A man with a low IQ has accomplished great things in his life and been present during significant historic events—in each case, far exceeding what anyone imagined he could do. But despite all he has achieved, his one true love eludes him.',\n",
       " \"A burger-loving hit man, his philosophical partner, a drug-addled gangster's moll and a washed-up boxer converge in this sprawling, comedic crime caper. Their adventures unfurl in three stories that ingeniously trip back and forth in time.\",\n",
       " \"Jack Torrance accepts a caretaker job at the Overlook Hotel, where he, along with his wife Wendy and their son Danny, must live isolated from the rest of the world for the winter. But they aren't prepared for the madness that lurks within.\",\n",
       " 'A ticking-time-bomb insomniac and a slippery soap salesman channel primal male aggression into a shocking new form of therapy. Their concept catches on, with underground \"fight clubs\" forming in every town, until an eccentric gets in the way and ignites an out-of-control spiral toward oblivion.',\n",
       " 'During the 1980s, a failed stand-up comedian is driven insane and turns to a life of crime and chaos in Gotham City while becoming an infamous psychopathic crime figure.',\n",
       " 'In the post-apocalyptic future, reigning tyrannical supercomputers teleport a cyborg assassin known as the \"Terminator\" back to 1984 to kill Sarah Connor, whose unborn son is destined to lead insurgents against 21st century mechanical hegemony. Meanwhile, the human-resistance movement dispatches a lone warrior to safeguard Sarah. Can he stop the virtually indestructible killing machine?',\n",
       " 'Every year in the ruins of what was once North America, the nation of Panem forces each of its twelve districts to send a teenage boy and girl to compete in the Hunger Games.  Part twisted entertainment, part government intimidation tactic, the Hunger Games are a nationally televised event in which “Tributes” must fight with one another until one survivor remains.  Pitted against highly-trained Tributes who have prepared for these Games their entire lives, Katniss is forced to rely upon her sharp instincts as well as the mentorship of drunken former victor Haymitch Abernathy.  If she’s ever to return home to District 12, Katniss must make impossible choices in the arena that weigh survival against humanity and life against love. The world will be watching.',\n",
       " 'Batman raises the stakes in his war on crime. With the help of Lt. Jim Gordon and District Attorney Harvey Dent, Batman sets out to dismantle the remaining criminal organizations that plague the streets. The partnership proves to be effective, but they soon find themselves prey to a reign of chaos unleashed by a rising criminal mastermind known to the terrified citizens of Gotham as the Joker.',\n",
       " \"When Bond's latest assignment goes gravely wrong, agents around the world are exposed and MI6 headquarters is attacked. While M faces challenges to her authority and position from Gareth Mallory, the new Chairman of the Intelligence and Security Committee, it's up to Bond, aided only by field agent Eve, to locate the mastermind behind the attack.\",\n",
       " 'Two musicians witness a mob hit and struggle to find a way out of the city before they are found by the gangsters. Their only opportunity is to join an all-girl band as they leave on a tour. To make their getaway they must first disguise themselves as women, then keep their identities secret and deal with the problems this brings - such as an attractive bandmate and a very determined suitor.')"
      ]
     },
     "execution_count": 41,
     "metadata": {},
     "output_type": "execute_result"
    }
   ],
   "source": [
    "ov_list"
   ]
  },
  {
   "cell_type": "code",
   "execution_count": 279,
   "id": "80bf0d6e",
   "metadata": {
    "collapsed": true
   },
   "outputs": [
    {
     "name": "stdout",
     "output_type": "stream",
     "text": [
      "Movie: Forrest Gump \n",
      "Vote count: 22802 \n",
      "Vote average 8.5\n",
      "Movie: Pulp Fiction \n",
      "Vote count: 23247 \n",
      "Vote average 8.5\n",
      "Movie: The Shining \n",
      "Vote count: 14478 \n",
      "Vote average 8.2\n",
      "Movie: Fight Club \n",
      "Vote count: 24197 \n",
      "Vote average 8.4\n",
      "Movie: Joker \n",
      "Vote count: 20668 \n",
      "Vote average 8.2\n",
      "Movie: Joker \n",
      "Vote count: 31 \n",
      "Vote average 4.2\n",
      "Movie: Joker \n",
      "Vote count: 11 \n",
      "Vote average 5.4\n",
      "Movie: Joker \n",
      "Vote count: 1 \n",
      "Vote average 6\n",
      "Movie: Joker \n",
      "Vote count: 0 \n",
      "Vote average 0\n",
      "Movie: The Terminator \n",
      "Vote count: 10504 \n",
      "Vote average 7.6\n",
      "Movie: The Hunger Games \n",
      "Vote count: 19241 \n",
      "Vote average 7.2\n",
      "Movie: The Dark Knight \n",
      "Vote count: 27672 \n",
      "Vote average 8.5\n",
      "Movie: The Dark Knight \n",
      "Vote count: 7 \n",
      "Vote average 5.1\n",
      "Movie: Skyfall \n",
      "Vote count: 13526 \n",
      "Vote average 7.2\n",
      "Movie: Some Like It Hot \n",
      "Vote count: 2731 \n",
      "Vote average 8.1\n",
      "Movie: Some Like It Hot \n",
      "Vote count: 3 \n",
      "Vote average 7\n"
     ]
    }
   ],
   "source": [
    "vote_list = (vote_average(wrig_ti),vote_average(trav_ti),vote_average(nich_ti),vote_average(pitt_ti),vote_average(phoe_ti),vote_average(lind_ti),vote_average(law_ti),vote_average(bale_ti),vote_average(bard_ti),vote_average(monr_ti),)"
   ]
  },
  {
   "cell_type": "code",
   "execution_count": 42,
   "id": "e57f108b",
   "metadata": {},
   "outputs": [],
   "source": [
    "vote_list = (8.5,8.2,8.4,8.2,7.6,7.2,8.5,7.2,8.1,7)"
   ]
  },
  {
   "cell_type": "code",
   "execution_count": 49,
   "id": "f462b438",
   "metadata": {},
   "outputs": [],
   "source": [
    "sentiment_list = ('polarity 0.258,subjectivity 0.519','polarity 0.167,subjectivity 0.334','polarity 0.136,subjectivity 0.5','polarity -0.216,subjectivity 0.513','polarity -0.387,subjectivity 0.787','polarity 0.0,subjectivity 0.04','polarity -0.138,subjectivity 0.486','polarity 0.025,subjectivity 0.475','polarity -0.052,subjectivity 0.791','polarity 0.142,subjectivity 0.639')"
   ]
  },
  {
   "cell_type": "code",
   "execution_count": 50,
   "id": "ba829bad",
   "metadata": {},
   "outputs": [
    {
     "data": {
      "text/plain": [
       "(('Forrest Gump',\n",
       "  'Pulp Fiction',\n",
       "  'The Shining',\n",
       "  'Fight Club',\n",
       "  'Joker',\n",
       "  'The Terminator',\n",
       "  'The Hunger Games',\n",
       "  'The Dark Knight',\n",
       "  'Skyfall',\n",
       "  'Some Like It Hot'),\n",
       " ('A man with a low IQ has accomplished great things in his life and been present during significant historic events—in each case, far exceeding what anyone imagined he could do. But despite all he has achieved, his one true love eludes him.',\n",
       "  \"A burger-loving hit man, his philosophical partner, a drug-addled gangster's moll and a washed-up boxer converge in this sprawling, comedic crime caper. Their adventures unfurl in three stories that ingeniously trip back and forth in time.\",\n",
       "  \"Jack Torrance accepts a caretaker job at the Overlook Hotel, where he, along with his wife Wendy and their son Danny, must live isolated from the rest of the world for the winter. But they aren't prepared for the madness that lurks within.\",\n",
       "  'A ticking-time-bomb insomniac and a slippery soap salesman channel primal male aggression into a shocking new form of therapy. Their concept catches on, with underground \"fight clubs\" forming in every town, until an eccentric gets in the way and ignites an out-of-control spiral toward oblivion.',\n",
       "  'During the 1980s, a failed stand-up comedian is driven insane and turns to a life of crime and chaos in Gotham City while becoming an infamous psychopathic crime figure.',\n",
       "  'In the post-apocalyptic future, reigning tyrannical supercomputers teleport a cyborg assassin known as the \"Terminator\" back to 1984 to kill Sarah Connor, whose unborn son is destined to lead insurgents against 21st century mechanical hegemony. Meanwhile, the human-resistance movement dispatches a lone warrior to safeguard Sarah. Can he stop the virtually indestructible killing machine?',\n",
       "  'Every year in the ruins of what was once North America, the nation of Panem forces each of its twelve districts to send a teenage boy and girl to compete in the Hunger Games.  Part twisted entertainment, part government intimidation tactic, the Hunger Games are a nationally televised event in which “Tributes” must fight with one another until one survivor remains.  Pitted against highly-trained Tributes who have prepared for these Games their entire lives, Katniss is forced to rely upon her sharp instincts as well as the mentorship of drunken former victor Haymitch Abernathy.  If she’s ever to return home to District 12, Katniss must make impossible choices in the arena that weigh survival against humanity and life against love. The world will be watching.',\n",
       "  'Batman raises the stakes in his war on crime. With the help of Lt. Jim Gordon and District Attorney Harvey Dent, Batman sets out to dismantle the remaining criminal organizations that plague the streets. The partnership proves to be effective, but they soon find themselves prey to a reign of chaos unleashed by a rising criminal mastermind known to the terrified citizens of Gotham as the Joker.',\n",
       "  \"When Bond's latest assignment goes gravely wrong, agents around the world are exposed and MI6 headquarters is attacked. While M faces challenges to her authority and position from Gareth Mallory, the new Chairman of the Intelligence and Security Committee, it's up to Bond, aided only by field agent Eve, to locate the mastermind behind the attack.\",\n",
       "  'Two musicians witness a mob hit and struggle to find a way out of the city before they are found by the gangsters. Their only opportunity is to join an all-girl band as they leave on a tour. To make their getaway they must first disguise themselves as women, then keep their identities secret and deal with the problems this brings - such as an attractive bandmate and a very determined suitor.'),\n",
       " (8.5, 8.2, 8.4, 8.2, 7.6, 7.2, 8.5, 7.2, 8.1, 7),\n",
       " ('polarity 0.258,subjectivity 0.519',\n",
       "  'polarity 0.167,subjectivity 0.334',\n",
       "  'polarity 0.136,subjectivity 0.5',\n",
       "  'polarity -0.216,subjectivity 0.513',\n",
       "  'polarity -0.387,subjectivity 0.787',\n",
       "  'polarity 0.0,subjectivity 0.04',\n",
       "  'polarity -0.138,subjectivity 0.486',\n",
       "  'polarity 0.025,subjectivity 0.475',\n",
       "  'polarity -0.052,subjectivity 0.791',\n",
       "  'polarity 0.142,subjectivity 0.639'))"
      ]
     },
     "execution_count": 50,
     "metadata": {},
     "output_type": "execute_result"
    }
   ],
   "source": [
    "lista_fin = (tit_list,ov_list,vote_list,sentiment_list)\n",
    "lista_fin"
   ]
  },
  {
   "cell_type": "code",
   "execution_count": 51,
   "id": "0f41ee61",
   "metadata": {},
   "outputs": [],
   "source": [
    "df_tit_ov_v_sent = pd.DataFrame(lista_fin)"
   ]
  },
  {
   "cell_type": "code",
   "execution_count": 52,
   "id": "fdf1b09e",
   "metadata": {},
   "outputs": [
    {
     "data": {
      "text/html": [
       "<div><div id=0952f22b-4308-4882-8abb-059c138ece59 style=\"display:none; background-color:#9D6CFF; color:white; width:200px; height:30px; padding-left:5px; border-radius:4px; flex-direction:row; justify-content:space-around; align-items:center;\" onmouseover=\"this.style.backgroundColor='#BA9BF8'\" onmouseout=\"this.style.backgroundColor='#9D6CFF'\" onclick=\"window.commands?.execute('create-mitosheet-from-dataframe-output');\">See Full Dataframe in Mito</div> <script> if (window.commands?.hasCommand('create-mitosheet-from-dataframe-output')) document.getElementById('0952f22b-4308-4882-8abb-059c138ece59').style.display = 'flex' </script> <table border=\"1\" class=\"dataframe\">\n",
       "  <thead>\n",
       "    <tr style=\"text-align: right;\">\n",
       "      <th></th>\n",
       "      <th>0</th>\n",
       "      <th>1</th>\n",
       "      <th>2</th>\n",
       "      <th>3</th>\n",
       "    </tr>\n",
       "  </thead>\n",
       "  <tbody>\n",
       "    <tr>\n",
       "      <th>0</th>\n",
       "      <td>Forrest Gump</td>\n",
       "      <td>A man with a low IQ has accomplished great things in his life and been present during significant historic events—in each case, far exceeding what anyone imagined he could do. But despite all he has achieved, his one true love eludes him.</td>\n",
       "      <td>8.5</td>\n",
       "      <td>polarity 0.258,subjectivity 0.519</td>\n",
       "    </tr>\n",
       "    <tr>\n",
       "      <th>1</th>\n",
       "      <td>Pulp Fiction</td>\n",
       "      <td>A burger-loving hit man, his philosophical partner, a drug-addled gangster's moll and a washed-up boxer converge in this sprawling, comedic crime caper. Their adventures unfurl in three stories that ingeniously trip back and forth in time.</td>\n",
       "      <td>8.2</td>\n",
       "      <td>polarity 0.167,subjectivity 0.334</td>\n",
       "    </tr>\n",
       "    <tr>\n",
       "      <th>2</th>\n",
       "      <td>The Shining</td>\n",
       "      <td>Jack Torrance accepts a caretaker job at the Overlook Hotel, where he, along with his wife Wendy and their son Danny, must live isolated from the rest of the world for the winter. But they aren't prepared for the madness that lurks within.</td>\n",
       "      <td>8.4</td>\n",
       "      <td>polarity 0.136,subjectivity 0.5</td>\n",
       "    </tr>\n",
       "    <tr>\n",
       "      <th>3</th>\n",
       "      <td>Fight Club</td>\n",
       "      <td>A ticking-time-bomb insomniac and a slippery soap salesman channel primal male aggression into a shocking new form of therapy. Their concept catches on, with underground \"fight clubs\" forming in every town, until an eccentric gets in the way and ignites an out-of-control spiral toward oblivion.</td>\n",
       "      <td>8.2</td>\n",
       "      <td>polarity -0.216,subjectivity 0.513</td>\n",
       "    </tr>\n",
       "    <tr>\n",
       "      <th>4</th>\n",
       "      <td>Joker</td>\n",
       "      <td>During the 1980s, a failed stand-up comedian is driven insane and turns to a life of crime and chaos in Gotham City while becoming an infamous psychopathic crime figure.</td>\n",
       "      <td>7.6</td>\n",
       "      <td>polarity -0.387,subjectivity 0.787</td>\n",
       "    </tr>\n",
       "    <tr>\n",
       "      <th>5</th>\n",
       "      <td>The Terminator</td>\n",
       "      <td>In the post-apocalyptic future, reigning tyrannical supercomputers teleport a cyborg assassin known as the \"Terminator\" back to 1984 to kill Sarah Connor, whose unborn son is destined to lead insurgents against 21st century mechanical hegemony. Meanwhile, the human-resistance movement dispatches a lone warrior to safeguard Sarah. Can he stop the virtually indestructible killing machine?</td>\n",
       "      <td>7.2</td>\n",
       "      <td>polarity 0.0,subjectivity 0.04</td>\n",
       "    </tr>\n",
       "    <tr>\n",
       "      <th>6</th>\n",
       "      <td>The Hunger Games</td>\n",
       "      <td>Every year in the ruins of what was once North America, the nation of Panem forces each of its twelve districts to send a teenage boy and girl to compete in the Hunger Games.  Part twisted entertainment, part government intimidation tactic, the Hunger Games are a nationally televised event in which “Tributes” must fight with one another until one survivor remains.  Pitted against highly-trained Tributes who have prepared for these Games their entire lives, Katniss is forced to rely upon her sharp instincts as well as the mentorship of drunken former victor Haymitch Abernathy.  If she’s ever to return home to District 12, Katniss must make impossible choices in the arena that weigh survival against humanity and life against love. The world will be watching.</td>\n",
       "      <td>8.5</td>\n",
       "      <td>polarity -0.138,subjectivity 0.486</td>\n",
       "    </tr>\n",
       "    <tr>\n",
       "      <th>7</th>\n",
       "      <td>The Dark Knight</td>\n",
       "      <td>Batman raises the stakes in his war on crime. With the help of Lt. Jim Gordon and District Attorney Harvey Dent, Batman sets out to dismantle the remaining criminal organizations that plague the streets. The partnership proves to be effective, but they soon find themselves prey to a reign of chaos unleashed by a rising criminal mastermind known to the terrified citizens of Gotham as the Joker.</td>\n",
       "      <td>7.2</td>\n",
       "      <td>polarity 0.025,subjectivity 0.475</td>\n",
       "    </tr>\n",
       "    <tr>\n",
       "      <th>8</th>\n",
       "      <td>Skyfall</td>\n",
       "      <td>When Bond's latest assignment goes gravely wrong, agents around the world are exposed and MI6 headquarters is attacked. While M faces challenges to her authority and position from Gareth Mallory, the new Chairman of the Intelligence and Security Committee, it's up to Bond, aided only by field agent Eve, to locate the mastermind behind the attack.</td>\n",
       "      <td>8.1</td>\n",
       "      <td>polarity -0.052,subjectivity 0.791</td>\n",
       "    </tr>\n",
       "    <tr>\n",
       "      <th>9</th>\n",
       "      <td>Some Like It Hot</td>\n",
       "      <td>Two musicians witness a mob hit and struggle to find a way out of the city before they are found by the gangsters. Their only opportunity is to join an all-girl band as they leave on a tour. To make their getaway they must first disguise themselves as women, then keep their identities secret and deal with the problems this brings - such as an attractive bandmate and a very determined suitor.</td>\n",
       "      <td>7</td>\n",
       "      <td>polarity 0.142,subjectivity 0.639</td>\n",
       "    </tr>\n",
       "  </tbody>\n",
       "</table></div>"
      ],
      "text/plain": [
       "                  0                                                  1    2  \\\n",
       "0      Forrest Gump  A man with a low IQ has accomplished great thi...  8.5   \n",
       "1      Pulp Fiction  A burger-loving hit man, his philosophical par...  8.2   \n",
       "2       The Shining  Jack Torrance accepts a caretaker job at the O...  8.4   \n",
       "3        Fight Club  A ticking-time-bomb insomniac and a slippery s...  8.2   \n",
       "4             Joker  During the 1980s, a failed stand-up comedian i...  7.6   \n",
       "5    The Terminator  In the post-apocalyptic future, reigning tyran...  7.2   \n",
       "6  The Hunger Games  Every year in the ruins of what was once North...  8.5   \n",
       "7   The Dark Knight  Batman raises the stakes in his war on crime. ...  7.2   \n",
       "8           Skyfall  When Bond's latest assignment goes gravely wro...  8.1   \n",
       "9  Some Like It Hot  Two musicians witness a mob hit and struggle t...    7   \n",
       "\n",
       "                                    3  \n",
       "0   polarity 0.258,subjectivity 0.519  \n",
       "1   polarity 0.167,subjectivity 0.334  \n",
       "2     polarity 0.136,subjectivity 0.5  \n",
       "3  polarity -0.216,subjectivity 0.513  \n",
       "4  polarity -0.387,subjectivity 0.787  \n",
       "5      polarity 0.0,subjectivity 0.04  \n",
       "6  polarity -0.138,subjectivity 0.486  \n",
       "7   polarity 0.025,subjectivity 0.475  \n",
       "8  polarity -0.052,subjectivity 0.791  \n",
       "9   polarity 0.142,subjectivity 0.639  "
      ]
     },
     "execution_count": 52,
     "metadata": {},
     "output_type": "execute_result"
    }
   ],
   "source": [
    "df_tit_ov_vote_sent = df_tit_ov_v_sent.T\n",
    "df_tit_ov_vote_sent"
   ]
  },
  {
   "cell_type": "code",
   "execution_count": 53,
   "id": "b192fce7",
   "metadata": {
    "collapsed": true
   },
   "outputs": [
    {
     "data": {
      "text/html": [
       "<div><div id=e762dadd-c65f-4e60-8c54-c53e86ab22ee style=\"display:none; background-color:#9D6CFF; color:white; width:200px; height:30px; padding-left:5px; border-radius:4px; flex-direction:row; justify-content:space-around; align-items:center;\" onmouseover=\"this.style.backgroundColor='#BA9BF8'\" onmouseout=\"this.style.backgroundColor='#9D6CFF'\" onclick=\"window.commands?.execute('create-mitosheet-from-dataframe-output');\">See Full Dataframe in Mito</div> <script> if (window.commands?.hasCommand('create-mitosheet-from-dataframe-output')) document.getElementById('e762dadd-c65f-4e60-8c54-c53e86ab22ee').style.display = 'flex' </script> <table border=\"1\" class=\"dataframe\">\n",
       "  <thead>\n",
       "    <tr style=\"text-align: right;\">\n",
       "      <th></th>\n",
       "      <th>Title</th>\n",
       "      <th>Overview</th>\n",
       "      <th>Vote_average</th>\n",
       "      <th>Sentiment</th>\n",
       "    </tr>\n",
       "  </thead>\n",
       "  <tbody>\n",
       "    <tr>\n",
       "      <th>0</th>\n",
       "      <td>Forrest Gump</td>\n",
       "      <td>A man with a low IQ has accomplished great things in his life and been present during significant historic events—in each case, far exceeding what anyone imagined he could do. But despite all he has achieved, his one true love eludes him.</td>\n",
       "      <td>8.5</td>\n",
       "      <td>polarity 0.258,subjectivity 0.519</td>\n",
       "    </tr>\n",
       "    <tr>\n",
       "      <th>1</th>\n",
       "      <td>Pulp Fiction</td>\n",
       "      <td>A burger-loving hit man, his philosophical partner, a drug-addled gangster's moll and a washed-up boxer converge in this sprawling, comedic crime caper. Their adventures unfurl in three stories that ingeniously trip back and forth in time.</td>\n",
       "      <td>8.2</td>\n",
       "      <td>polarity 0.167,subjectivity 0.334</td>\n",
       "    </tr>\n",
       "    <tr>\n",
       "      <th>2</th>\n",
       "      <td>The Shining</td>\n",
       "      <td>Jack Torrance accepts a caretaker job at the Overlook Hotel, where he, along with his wife Wendy and their son Danny, must live isolated from the rest of the world for the winter. But they aren't prepared for the madness that lurks within.</td>\n",
       "      <td>8.4</td>\n",
       "      <td>polarity 0.136,subjectivity 0.5</td>\n",
       "    </tr>\n",
       "    <tr>\n",
       "      <th>3</th>\n",
       "      <td>Fight Club</td>\n",
       "      <td>A ticking-time-bomb insomniac and a slippery soap salesman channel primal male aggression into a shocking new form of therapy. Their concept catches on, with underground \"fight clubs\" forming in every town, until an eccentric gets in the way and ignites an out-of-control spiral toward oblivion.</td>\n",
       "      <td>8.2</td>\n",
       "      <td>polarity -0.216,subjectivity 0.513</td>\n",
       "    </tr>\n",
       "    <tr>\n",
       "      <th>4</th>\n",
       "      <td>Joker</td>\n",
       "      <td>During the 1980s, a failed stand-up comedian is driven insane and turns to a life of crime and chaos in Gotham City while becoming an infamous psychopathic crime figure.</td>\n",
       "      <td>7.6</td>\n",
       "      <td>polarity -0.387,subjectivity 0.787</td>\n",
       "    </tr>\n",
       "    <tr>\n",
       "      <th>5</th>\n",
       "      <td>The Terminator</td>\n",
       "      <td>In the post-apocalyptic future, reigning tyrannical supercomputers teleport a cyborg assassin known as the \"Terminator\" back to 1984 to kill Sarah Connor, whose unborn son is destined to lead insurgents against 21st century mechanical hegemony. Meanwhile, the human-resistance movement dispatches a lone warrior to safeguard Sarah. Can he stop the virtually indestructible killing machine?</td>\n",
       "      <td>7.2</td>\n",
       "      <td>polarity 0.0,subjectivity 0.04</td>\n",
       "    </tr>\n",
       "    <tr>\n",
       "      <th>6</th>\n",
       "      <td>The Hunger Games</td>\n",
       "      <td>Every year in the ruins of what was once North America, the nation of Panem forces each of its twelve districts to send a teenage boy and girl to compete in the Hunger Games.  Part twisted entertainment, part government intimidation tactic, the Hunger Games are a nationally televised event in which “Tributes” must fight with one another until one survivor remains.  Pitted against highly-trained Tributes who have prepared for these Games their entire lives, Katniss is forced to rely upon her sharp instincts as well as the mentorship of drunken former victor Haymitch Abernathy.  If she’s ever to return home to District 12, Katniss must make impossible choices in the arena that weigh survival against humanity and life against love. The world will be watching.</td>\n",
       "      <td>8.5</td>\n",
       "      <td>polarity -0.138,subjectivity 0.486</td>\n",
       "    </tr>\n",
       "    <tr>\n",
       "      <th>7</th>\n",
       "      <td>The Dark Knight</td>\n",
       "      <td>Batman raises the stakes in his war on crime. With the help of Lt. Jim Gordon and District Attorney Harvey Dent, Batman sets out to dismantle the remaining criminal organizations that plague the streets. The partnership proves to be effective, but they soon find themselves prey to a reign of chaos unleashed by a rising criminal mastermind known to the terrified citizens of Gotham as the Joker.</td>\n",
       "      <td>7.2</td>\n",
       "      <td>polarity 0.025,subjectivity 0.475</td>\n",
       "    </tr>\n",
       "    <tr>\n",
       "      <th>8</th>\n",
       "      <td>Skyfall</td>\n",
       "      <td>When Bond's latest assignment goes gravely wrong, agents around the world are exposed and MI6 headquarters is attacked. While M faces challenges to her authority and position from Gareth Mallory, the new Chairman of the Intelligence and Security Committee, it's up to Bond, aided only by field agent Eve, to locate the mastermind behind the attack.</td>\n",
       "      <td>8.1</td>\n",
       "      <td>polarity -0.052,subjectivity 0.791</td>\n",
       "    </tr>\n",
       "    <tr>\n",
       "      <th>9</th>\n",
       "      <td>Some Like It Hot</td>\n",
       "      <td>Two musicians witness a mob hit and struggle to find a way out of the city before they are found by the gangsters. Their only opportunity is to join an all-girl band as they leave on a tour. To make their getaway they must first disguise themselves as women, then keep their identities secret and deal with the problems this brings - such as an attractive bandmate and a very determined suitor.</td>\n",
       "      <td>7</td>\n",
       "      <td>polarity 0.142,subjectivity 0.639</td>\n",
       "    </tr>\n",
       "  </tbody>\n",
       "</table></div>"
      ],
      "text/plain": [
       "              Title                                           Overview  \\\n",
       "0      Forrest Gump  A man with a low IQ has accomplished great thi...   \n",
       "1      Pulp Fiction  A burger-loving hit man, his philosophical par...   \n",
       "2       The Shining  Jack Torrance accepts a caretaker job at the O...   \n",
       "3        Fight Club  A ticking-time-bomb insomniac and a slippery s...   \n",
       "4             Joker  During the 1980s, a failed stand-up comedian i...   \n",
       "5    The Terminator  In the post-apocalyptic future, reigning tyran...   \n",
       "6  The Hunger Games  Every year in the ruins of what was once North...   \n",
       "7   The Dark Knight  Batman raises the stakes in his war on crime. ...   \n",
       "8           Skyfall  When Bond's latest assignment goes gravely wro...   \n",
       "9  Some Like It Hot  Two musicians witness a mob hit and struggle t...   \n",
       "\n",
       "  Vote_average                           Sentiment  \n",
       "0          8.5   polarity 0.258,subjectivity 0.519  \n",
       "1          8.2   polarity 0.167,subjectivity 0.334  \n",
       "2          8.4     polarity 0.136,subjectivity 0.5  \n",
       "3          8.2  polarity -0.216,subjectivity 0.513  \n",
       "4          7.6  polarity -0.387,subjectivity 0.787  \n",
       "5          7.2      polarity 0.0,subjectivity 0.04  \n",
       "6          8.5  polarity -0.138,subjectivity 0.486  \n",
       "7          7.2   polarity 0.025,subjectivity 0.475  \n",
       "8          8.1  polarity -0.052,subjectivity 0.791  \n",
       "9            7   polarity 0.142,subjectivity 0.639  "
      ]
     },
     "execution_count": 53,
     "metadata": {},
     "output_type": "execute_result"
    }
   ],
   "source": [
    "df_tit_ov_vote_sent.columns=['Title','Overview','Vote_average','Sentiment']\n",
    "df_tit_ov_vote_sent"
   ]
  },
  {
   "cell_type": "code",
   "execution_count": 54,
   "id": "c9ebfd3b",
   "metadata": {
    "collapsed": true
   },
   "outputs": [
    {
     "data": {
      "text/html": [
       "<div><div id=1094ce98-dba9-472d-a9c6-3b0dbf45bdb2 style=\"display:none; background-color:#9D6CFF; color:white; width:200px; height:30px; padding-left:5px; border-radius:4px; flex-direction:row; justify-content:space-around; align-items:center;\" onmouseover=\"this.style.backgroundColor='#BA9BF8'\" onmouseout=\"this.style.backgroundColor='#9D6CFF'\" onclick=\"window.commands?.execute('create-mitosheet-from-dataframe-output');\">See Full Dataframe in Mito</div> <script> if (window.commands?.hasCommand('create-mitosheet-from-dataframe-output')) document.getElementById('1094ce98-dba9-472d-a9c6-3b0dbf45bdb2').style.display = 'flex' </script> <table border=\"1\" class=\"dataframe\">\n",
       "  <thead>\n",
       "    <tr style=\"text-align: right;\">\n",
       "      <th></th>\n",
       "      <th>Title</th>\n",
       "      <th>Overview</th>\n",
       "      <th>Vote_average</th>\n",
       "      <th>Sentiment</th>\n",
       "    </tr>\n",
       "  </thead>\n",
       "  <tbody>\n",
       "    <tr>\n",
       "      <th>1</th>\n",
       "      <td>Forrest Gump</td>\n",
       "      <td>A man with a low IQ has accomplished great things in his life and been present during significant historic events—in each case, far exceeding what anyone imagined he could do. But despite all he has achieved, his one true love eludes him.</td>\n",
       "      <td>8.5</td>\n",
       "      <td>polarity 0.258,subjectivity 0.519</td>\n",
       "    </tr>\n",
       "    <tr>\n",
       "      <th>2</th>\n",
       "      <td>Pulp Fiction</td>\n",
       "      <td>A burger-loving hit man, his philosophical partner, a drug-addled gangster's moll and a washed-up boxer converge in this sprawling, comedic crime caper. Their adventures unfurl in three stories that ingeniously trip back and forth in time.</td>\n",
       "      <td>8.2</td>\n",
       "      <td>polarity 0.167,subjectivity 0.334</td>\n",
       "    </tr>\n",
       "    <tr>\n",
       "      <th>3</th>\n",
       "      <td>The Shining</td>\n",
       "      <td>Jack Torrance accepts a caretaker job at the Overlook Hotel, where he, along with his wife Wendy and their son Danny, must live isolated from the rest of the world for the winter. But they aren't prepared for the madness that lurks within.</td>\n",
       "      <td>8.4</td>\n",
       "      <td>polarity 0.136,subjectivity 0.5</td>\n",
       "    </tr>\n",
       "    <tr>\n",
       "      <th>4</th>\n",
       "      <td>Fight Club</td>\n",
       "      <td>A ticking-time-bomb insomniac and a slippery soap salesman channel primal male aggression into a shocking new form of therapy. Their concept catches on, with underground \"fight clubs\" forming in every town, until an eccentric gets in the way and ignites an out-of-control spiral toward oblivion.</td>\n",
       "      <td>8.2</td>\n",
       "      <td>polarity -0.216,subjectivity 0.513</td>\n",
       "    </tr>\n",
       "    <tr>\n",
       "      <th>5</th>\n",
       "      <td>Joker</td>\n",
       "      <td>During the 1980s, a failed stand-up comedian is driven insane and turns to a life of crime and chaos in Gotham City while becoming an infamous psychopathic crime figure.</td>\n",
       "      <td>7.6</td>\n",
       "      <td>polarity -0.387,subjectivity 0.787</td>\n",
       "    </tr>\n",
       "    <tr>\n",
       "      <th>6</th>\n",
       "      <td>The Terminator</td>\n",
       "      <td>In the post-apocalyptic future, reigning tyrannical supercomputers teleport a cyborg assassin known as the \"Terminator\" back to 1984 to kill Sarah Connor, whose unborn son is destined to lead insurgents against 21st century mechanical hegemony. Meanwhile, the human-resistance movement dispatches a lone warrior to safeguard Sarah. Can he stop the virtually indestructible killing machine?</td>\n",
       "      <td>7.2</td>\n",
       "      <td>polarity 0.0,subjectivity 0.04</td>\n",
       "    </tr>\n",
       "    <tr>\n",
       "      <th>7</th>\n",
       "      <td>The Hunger Games</td>\n",
       "      <td>Every year in the ruins of what was once North America, the nation of Panem forces each of its twelve districts to send a teenage boy and girl to compete in the Hunger Games.  Part twisted entertainment, part government intimidation tactic, the Hunger Games are a nationally televised event in which “Tributes” must fight with one another until one survivor remains.  Pitted against highly-trained Tributes who have prepared for these Games their entire lives, Katniss is forced to rely upon her sharp instincts as well as the mentorship of drunken former victor Haymitch Abernathy.  If she’s ever to return home to District 12, Katniss must make impossible choices in the arena that weigh survival against humanity and life against love. The world will be watching.</td>\n",
       "      <td>8.5</td>\n",
       "      <td>polarity -0.138,subjectivity 0.486</td>\n",
       "    </tr>\n",
       "    <tr>\n",
       "      <th>8</th>\n",
       "      <td>The Dark Knight</td>\n",
       "      <td>Batman raises the stakes in his war on crime. With the help of Lt. Jim Gordon and District Attorney Harvey Dent, Batman sets out to dismantle the remaining criminal organizations that plague the streets. The partnership proves to be effective, but they soon find themselves prey to a reign of chaos unleashed by a rising criminal mastermind known to the terrified citizens of Gotham as the Joker.</td>\n",
       "      <td>7.2</td>\n",
       "      <td>polarity 0.025,subjectivity 0.475</td>\n",
       "    </tr>\n",
       "    <tr>\n",
       "      <th>9</th>\n",
       "      <td>Skyfall</td>\n",
       "      <td>When Bond's latest assignment goes gravely wrong, agents around the world are exposed and MI6 headquarters is attacked. While M faces challenges to her authority and position from Gareth Mallory, the new Chairman of the Intelligence and Security Committee, it's up to Bond, aided only by field agent Eve, to locate the mastermind behind the attack.</td>\n",
       "      <td>8.1</td>\n",
       "      <td>polarity -0.052,subjectivity 0.791</td>\n",
       "    </tr>\n",
       "    <tr>\n",
       "      <th>10</th>\n",
       "      <td>Some Like It Hot</td>\n",
       "      <td>Two musicians witness a mob hit and struggle to find a way out of the city before they are found by the gangsters. Their only opportunity is to join an all-girl band as they leave on a tour. To make their getaway they must first disguise themselves as women, then keep their identities secret and deal with the problems this brings - such as an attractive bandmate and a very determined suitor.</td>\n",
       "      <td>7</td>\n",
       "      <td>polarity 0.142,subjectivity 0.639</td>\n",
       "    </tr>\n",
       "  </tbody>\n",
       "</table></div>"
      ],
      "text/plain": [
       "               Title                                           Overview  \\\n",
       "1       Forrest Gump  A man with a low IQ has accomplished great thi...   \n",
       "2       Pulp Fiction  A burger-loving hit man, his philosophical par...   \n",
       "3        The Shining  Jack Torrance accepts a caretaker job at the O...   \n",
       "4         Fight Club  A ticking-time-bomb insomniac and a slippery s...   \n",
       "5              Joker  During the 1980s, a failed stand-up comedian i...   \n",
       "6     The Terminator  In the post-apocalyptic future, reigning tyran...   \n",
       "7   The Hunger Games  Every year in the ruins of what was once North...   \n",
       "8    The Dark Knight  Batman raises the stakes in his war on crime. ...   \n",
       "9            Skyfall  When Bond's latest assignment goes gravely wro...   \n",
       "10  Some Like It Hot  Two musicians witness a mob hit and struggle t...   \n",
       "\n",
       "   Vote_average                           Sentiment  \n",
       "1           8.5   polarity 0.258,subjectivity 0.519  \n",
       "2           8.2   polarity 0.167,subjectivity 0.334  \n",
       "3           8.4     polarity 0.136,subjectivity 0.5  \n",
       "4           8.2  polarity -0.216,subjectivity 0.513  \n",
       "5           7.6  polarity -0.387,subjectivity 0.787  \n",
       "6           7.2      polarity 0.0,subjectivity 0.04  \n",
       "7           8.5  polarity -0.138,subjectivity 0.486  \n",
       "8           7.2   polarity 0.025,subjectivity 0.475  \n",
       "9           8.1  polarity -0.052,subjectivity 0.791  \n",
       "10            7   polarity 0.142,subjectivity 0.639  "
      ]
     },
     "execution_count": 54,
     "metadata": {},
     "output_type": "execute_result"
    }
   ],
   "source": [
    "df_tit_ov_vote_sent.index=['1','2','3','4','5','6','7','8','9','10']\n",
    "df_tit_ov_vote_sent"
   ]
  },
  {
   "cell_type": "code",
   "execution_count": 55,
   "id": "9318b7a4",
   "metadata": {},
   "outputs": [],
   "source": [
    "# Saving the dataframe\n",
    "df_tit_ov_vote_sent.to_csv('df_API.csv')"
   ]
  },
  {
   "cell_type": "code",
   "execution_count": 59,
   "id": "e5385ef1",
   "metadata": {},
   "outputs": [
    {
     "data": {
      "text/html": [
       "<div><div id=c36ad19d-4262-479f-8704-dcf579c560a4 style=\"display:none; background-color:#9D6CFF; color:white; width:200px; height:30px; padding-left:5px; border-radius:4px; flex-direction:row; justify-content:space-around; align-items:center;\" onmouseover=\"this.style.backgroundColor='#BA9BF8'\" onmouseout=\"this.style.backgroundColor='#9D6CFF'\" onclick=\"window.commands?.execute('create-mitosheet-from-dataframe-output');\">See Full Dataframe in Mito</div> <script> if (window.commands?.hasCommand('create-mitosheet-from-dataframe-output')) document.getElementById('c36ad19d-4262-479f-8704-dcf579c560a4').style.display = 'flex' </script> <table border=\"1\" class=\"dataframe\">\n",
       "  <thead>\n",
       "    <tr style=\"text-align: right;\">\n",
       "      <th></th>\n",
       "      <th>Title</th>\n",
       "      <th>Vote_average</th>\n",
       "      <th>Sentiment</th>\n",
       "    </tr>\n",
       "  </thead>\n",
       "  <tbody>\n",
       "    <tr>\n",
       "      <th>1</th>\n",
       "      <td>Forrest Gump</td>\n",
       "      <td>8.5</td>\n",
       "      <td>polarity 0.258,subjectivity 0.519</td>\n",
       "    </tr>\n",
       "    <tr>\n",
       "      <th>2</th>\n",
       "      <td>Pulp Fiction</td>\n",
       "      <td>8.2</td>\n",
       "      <td>polarity 0.167,subjectivity 0.334</td>\n",
       "    </tr>\n",
       "    <tr>\n",
       "      <th>3</th>\n",
       "      <td>The Shining</td>\n",
       "      <td>8.4</td>\n",
       "      <td>polarity 0.136,subjectivity 0.5</td>\n",
       "    </tr>\n",
       "    <tr>\n",
       "      <th>4</th>\n",
       "      <td>Fight Club</td>\n",
       "      <td>8.2</td>\n",
       "      <td>polarity -0.216,subjectivity 0.513</td>\n",
       "    </tr>\n",
       "    <tr>\n",
       "      <th>5</th>\n",
       "      <td>Joker</td>\n",
       "      <td>7.6</td>\n",
       "      <td>polarity -0.387,subjectivity 0.787</td>\n",
       "    </tr>\n",
       "    <tr>\n",
       "      <th>6</th>\n",
       "      <td>The Terminator</td>\n",
       "      <td>7.2</td>\n",
       "      <td>polarity 0.0,subjectivity 0.04</td>\n",
       "    </tr>\n",
       "    <tr>\n",
       "      <th>7</th>\n",
       "      <td>The Hunger Games</td>\n",
       "      <td>8.5</td>\n",
       "      <td>polarity -0.138,subjectivity 0.486</td>\n",
       "    </tr>\n",
       "    <tr>\n",
       "      <th>8</th>\n",
       "      <td>The Dark Knight</td>\n",
       "      <td>7.2</td>\n",
       "      <td>polarity 0.025,subjectivity 0.475</td>\n",
       "    </tr>\n",
       "    <tr>\n",
       "      <th>9</th>\n",
       "      <td>Skyfall</td>\n",
       "      <td>8.1</td>\n",
       "      <td>polarity -0.052,subjectivity 0.791</td>\n",
       "    </tr>\n",
       "    <tr>\n",
       "      <th>10</th>\n",
       "      <td>Some Like It Hot</td>\n",
       "      <td>7</td>\n",
       "      <td>polarity 0.142,subjectivity 0.639</td>\n",
       "    </tr>\n",
       "  </tbody>\n",
       "</table></div>"
      ],
      "text/plain": [
       "               Title Vote_average                           Sentiment\n",
       "1       Forrest Gump          8.5   polarity 0.258,subjectivity 0.519\n",
       "2       Pulp Fiction          8.2   polarity 0.167,subjectivity 0.334\n",
       "3        The Shining          8.4     polarity 0.136,subjectivity 0.5\n",
       "4         Fight Club          8.2  polarity -0.216,subjectivity 0.513\n",
       "5              Joker          7.6  polarity -0.387,subjectivity 0.787\n",
       "6     The Terminator          7.2      polarity 0.0,subjectivity 0.04\n",
       "7   The Hunger Games          8.5  polarity -0.138,subjectivity 0.486\n",
       "8    The Dark Knight          7.2   polarity 0.025,subjectivity 0.475\n",
       "9            Skyfall          8.1  polarity -0.052,subjectivity 0.791\n",
       "10  Some Like It Hot            7   polarity 0.142,subjectivity 0.639"
      ]
     },
     "execution_count": 59,
     "metadata": {},
     "output_type": "execute_result"
    }
   ],
   "source": [
    "df_col_API = df_tit_ov_vote_sent[['Title','Vote_average','Sentiment']]\n",
    "df_col_API"
   ]
  },
  {
   "cell_type": "code",
   "execution_count": 58,
   "id": "4766dbbc",
   "metadata": {},
   "outputs": [],
   "source": [
    "df_col_API.to_csv('df_col_API.csv')"
   ]
  },
  {
   "cell_type": "code",
   "execution_count": null,
   "id": "1cf5fd5c",
   "metadata": {},
   "outputs": [],
   "source": []
  }
 ],
 "metadata": {
  "kernelspec": {
   "display_name": "Python 3 (ipykernel)",
   "language": "python",
   "name": "python3"
  },
  "language_info": {
   "codemirror_mode": {
    "name": "ipython",
    "version": 3
   },
   "file_extension": ".py",
   "mimetype": "text/x-python",
   "name": "python",
   "nbconvert_exporter": "python",
   "pygments_lexer": "ipython3",
   "version": "3.9.7"
  }
 },
 "nbformat": 4,
 "nbformat_minor": 5
}
